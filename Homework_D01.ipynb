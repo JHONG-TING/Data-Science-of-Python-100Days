{
  "nbformat": 4,
  "nbformat_minor": 0,
  "metadata": {
    "colab": {
      "name": "Homework-D01.ipynb",
      "provenance": [],
      "collapsed_sections": []
    },
    "kernelspec": {
      "name": "python3",
      "display_name": "Python 3"
    }
  },
  "cells": [
    {
      "cell_type": "markdown",
      "metadata": {
        "id": "Ec7jpEEnD4rj"
      },
      "source": [
        "題目:<br>\r\n",
        "1.生成一個等差數列，首數為0，尾數為20，公差為1的數列。<br>\r\n",
        "2.呈上題，將以上數列取出偶數。<br>\r\n",
        "3.呈1題，將數列取出3的倍數。<br>"
      ]
    },
    {
      "cell_type": "code",
      "metadata": {
        "id": "NfVTcwauD3rg"
      },
      "source": [
        "import numpy as np"
      ],
      "execution_count": 8,
      "outputs": []
    },
    {
      "cell_type": "code",
      "metadata": {
        "id": "QrOaxfmeEpvo",
        "colab": {
          "base_uri": "https://localhost:8080/"
        },
        "outputId": "0cfd1d87-47a6-4905-df63-b79733753b7d"
      },
      "source": [
        "#1.生成一個等差數列，首數為0，尾數為20，公差為1的數列。\r\n",
        "a = np.arange(0, 21, step=1)\r\n",
        "print(\"等差數列公差為1: \", a)"
      ],
      "execution_count": 13,
      "outputs": [
        {
          "output_type": "stream",
          "text": [
            "等差數列公差為1:  [ 0  1  2  3  4  5  6  7  8  9 10 11 12 13 14 15 16 17 18 19 20]\n"
          ],
          "name": "stdout"
        }
      ]
    },
    {
      "cell_type": "code",
      "metadata": {
        "id": "5FFeFSvoEtRP",
        "colab": {
          "base_uri": "https://localhost:8080/"
        },
        "outputId": "bfb1bf9a-d3b1-47d4-b3af-c01ec1ad9572"
      },
      "source": [
        "#2.呈上題，將以上數列取出偶數。\r\n",
        "b = a[a%2==0]\r\n",
        "print(\"取出偶數：\", b)"
      ],
      "execution_count": 74,
      "outputs": [
        {
          "output_type": "stream",
          "text": [
            "取出偶數： [ 0  2  4  6  8 10 12 14 16 18 20]\n"
          ],
          "name": "stdout"
        }
      ]
    },
    {
      "cell_type": "code",
      "metadata": {
        "id": "7-HcNGFsFD-_",
        "colab": {
          "base_uri": "https://localhost:8080/"
        },
        "outputId": "82d12ace-734a-41bd-8180-dfdd8b628dd2"
      },
      "source": [
        "#3.呈1題，將數列取出3的倍數。\r\n",
        "c = a[a%3==0]\r\n",
        "print(\"取出3的倍數：\", c)"
      ],
      "execution_count": 75,
      "outputs": [
        {
          "output_type": "stream",
          "text": [
            "取出3的倍數： [ 0  3  6  9 12 15 18]\n"
          ],
          "name": "stdout"
        }
      ]
    }
  ]
}